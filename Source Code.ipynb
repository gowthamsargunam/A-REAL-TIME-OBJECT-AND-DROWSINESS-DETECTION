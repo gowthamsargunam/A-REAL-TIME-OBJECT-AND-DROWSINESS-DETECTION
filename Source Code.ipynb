{
 "cells": [
  {
   "cell_type": "code",
   "execution_count": null,
   "id": "d10e842c-ebf8-4c7d-9b16-26b35076b0a4",
   "metadata": {},
   "outputs": [],
   "source": [
    "pip3 install torch torchvision torchaudio --index-url https://download.pytorch.org/whl/cu118"
   ]
  },
  {
   "cell_type": "code",
   "execution_count": null,
   "id": "408afd44-20d5-4066-b7ec-fb7fd498d8cb",
   "metadata": {},
   "outputs": [],
   "source": [
    "!git clone https://github.com/ultralytics/yolov5"
   ]
  },
  {
   "cell_type": "code",
   "execution_count": null,
   "id": "19fc0c07-15d3-4ef3-944f-4fbd02bb3b1b",
   "metadata": {},
   "outputs": [],
   "source": [
    "!cd yolov5 & pip install -r requirements.txt"
   ]
  },
  {
   "cell_type": "markdown",
   "id": "70da2565-a6de-469f-9b68-40255c9d4dc7",
   "metadata": {},
   "source": [
    "# OBJECT DETECTION "
   ]
  },
  {
   "cell_type": "code",
   "execution_count": null,
   "id": "7d6f6ce9-d144-4593-9b10-4703b2ac8d2b",
   "metadata": {},
   "outputs": [],
   "source": [
    "import torch\n",
    "from matplotlib import pyplot as plt\n",
    "import numpy as np\n",
    "import cv2"
   ]
  },
  {
   "cell_type": "code",
   "execution_count": null,
   "id": "b675d2bf-d398-40c3-abd7-56cdf7f92e04",
   "metadata": {},
   "outputs": [],
   "source": [
    "model = torch.hub.load('ultralytics/yolov5', 'yolov5s')"
   ]
  },
  {
   "cell_type": "code",
   "execution_count": null,
   "id": "98188647-d874-42b0-9049-6ce7754a4e62",
   "metadata": {},
   "outputs": [],
   "source": [
    "img = \"https://c.ndtvimg.com/2022-06/fdp0lr_car_625x300_17_June_22.jpg\""
   ]
  },
  {
   "cell_type": "code",
   "execution_count": null,
   "id": "cbdc09e5-b2b8-4ea8-ac4c-fcc2cf04685f",
   "metadata": {},
   "outputs": [],
   "source": [
    "results = model(img)\n",
    "results.print()"
   ]
  },
  {
   "cell_type": "code",
   "execution_count": null,
   "id": "b7431766-8c71-498f-a189-7644e45daaa7",
   "metadata": {},
   "outputs": [],
   "source": [
    "%matplotlib inline \n",
    "plt.imshow(np.squeeze(results.render()))\n",
    "plt.show()"
   ]
  },
  {
   "cell_type": "code",
   "execution_count": null,
   "id": "2eeb4624-f630-4c61-86bd-290e5d82a63f",
   "metadata": {},
   "outputs": [],
   "source": [
    "results.render()"
   ]
  },
  {
   "cell_type": "markdown",
   "id": "e3890c5e-0e90-478b-9dd9-235ec03d5bc8",
   "metadata": {},
   "source": [
    "# Detection using Camera, a real time detection "
   ]
  },
  {
   "cell_type": "code",
   "execution_count": null,
   "id": "f4f7a2a9-9fe6-4856-b73f-43b8784c18b6",
   "metadata": {},
   "outputs": [],
   "source": [
    "cap = cv2.VideoCapture(0)\n",
    "while cap.isOpened():\n",
    "    ret, frame = cap.read()\n",
    "    \n",
    "    results = model(frame)\n",
    "    \n",
    "    cv2.imshow('YOLO', np.squeeze(results.render()))\n",
    "    \n",
    "    if cv2.waitKey(10) & 0xFF == ord('q'):\n",
    "        break\n",
    "cap.release()\n",
    "cv2.destroyAllWindows()"
   ]
  },
  {
   "cell_type": "markdown",
   "id": "ff3882be-ca82-4522-81a2-d3b7656a5f67",
   "metadata": {},
   "source": [
    "# Drowsiness Detection "
   ]
  },
  {
   "cell_type": "code",
   "execution_count": null,
   "id": "dfd35f30-cdd1-4f26-9400-c561ad8232fa",
   "metadata": {},
   "outputs": [],
   "source": [
    "import uuid \n",
    "import os\n",
    "import time"
   ]
  },
  {
   "cell_type": "code",
   "execution_count": null,
   "id": "f490be04-57ac-4ba9-a17e-5503b1f1c045",
   "metadata": {},
   "outputs": [],
   "source": [
    "IMAGES_PATH = os.path.join('data', 'images') #/data/images\n",
    "labels = ['awake', 'drowsy']\n",
    "number_imgs = 5"
   ]
  },
  {
   "cell_type": "markdown",
   "id": "6d760403-1d4b-463d-aa2e-208786e1c6b6",
   "metadata": {},
   "source": [
    "to collect images as awake and drowsiness "
   ]
  },
  {
   "cell_type": "code",
   "execution_count": null,
   "id": "8e530b19-fed0-4150-893c-6cc807a4a032",
   "metadata": {},
   "outputs": [],
   "source": [
    "cap = cv2.VideoCapture(0)\n",
    "# Loop through labels\n",
    "for label in labels:\n",
    "    print('Collecting images for {}'.format(label))\n",
    "    time.sleep(5)\n",
    "    \n",
    "    # Loop through image range\n",
    "    for img_num in range(number_imgs):\n",
    "        print('Collecting images for {}, image number {}'.format(label, img_num))\n",
    "        \n",
    "        # Webcam feed\n",
    "        ret, frame = cap.read()\n",
    "        \n",
    "        # Naming out image path\n",
    "        imgname = os.path.join(IMAGES_PATH, label+'.'+str(uuid.uuid1())+'.jpg')\n",
    "        \n",
    "        # Writes out image to file \n",
    "        cv2.imwrite(imgname, frame)\n",
    "        \n",
    "        # Render to the screen\n",
    "        cv2.imshow('Image Collection', frame)\n",
    "        \n",
    "        # 2 second delay between captures\n",
    "        time.sleep(2)\n",
    "        \n",
    "        if cv2.waitKey(10) & 0xFF == ord('q'):\n",
    "            break\n",
    "cap.release()\n",
    "cv2.destroyAllWindows()"
   ]
  },
  {
   "cell_type": "code",
   "execution_count": null,
   "id": "edfa11c5-bd99-4ae2-8d22-0e633a1df612",
   "metadata": {},
   "outputs": [],
   "source": [
    "print(os.path.join(IMAGES_PATH, labels[0]+'.'+str(uuid.uuid1())+'.jpg'))"
   ]
  },
  {
   "cell_type": "code",
   "execution_count": null,
   "id": "b3fe7f96-ff1c-40f6-9e34-0d0dc5216494",
   "metadata": {},
   "outputs": [],
   "source": [
    "for label in labels:\n",
    "    print('Collecting images for {}'.format(label))\n",
    "    for img_num in range(number_imgs):\n",
    "        print('Collecting images for {}, image number {}'.format(label, img_num))\n",
    "        imgname = os.path.join(IMAGES_PATH, label+'.'+str(uuid.uuid1())+'.jpg')\n",
    "        print(imgname)"
   ]
  },
  {
   "cell_type": "code",
   "execution_count": null,
   "id": "b78ca782-86bb-46e9-9664-9bce842a88b1",
   "metadata": {},
   "outputs": [],
   "source": [
    "!git clone https://github.com/tzutalin/labelImg"
   ]
  },
  {
   "cell_type": "code",
   "execution_count": null,
   "id": "15983207-2aaa-4b4c-9999-2fcdbf255cb0",
   "metadata": {},
   "outputs": [],
   "source": [
    "!pip install pyqt5 lxml --upgrade\n",
    "!cd labelImg && pyrcc5 -o libs/resources.py resources.qrc"
   ]
  },
  {
   "cell_type": "code",
   "execution_count": null,
   "id": "6e42e127-0e00-4ee7-9ee5-b747a7fd96df",
   "metadata": {},
   "outputs": [],
   "source": [
    "!cd yolov5 && python train.py --img 320 --batch 16 --epochs 500 --data dataset.yml --weights yolov5s.pt --workers 2"
   ]
  },
  {
   "cell_type": "code",
   "execution_count": null,
   "id": "d3149abb-3a08-4a76-8711-a7aeff7fb730",
   "metadata": {},
   "outputs": [],
   "source": [
    "model = torch.hub.load('ultralytics/yolov5', 'custom', path='yolov5/runs/train/exp15/weights/last.pt', force_reload=True)"
   ]
  },
  {
   "cell_type": "code",
   "execution_count": null,
   "id": "cf7d09a4-3894-42f7-b885-ad074c36134e",
   "metadata": {},
   "outputs": [],
   "source": [
    "img = os.path.join('data', 'images', 'path of image as awake or drowsy')"
   ]
  },
  {
   "cell_type": "code",
   "execution_count": null,
   "id": "031d82ea-839c-49e7-b815-bf994d0ea8ac",
   "metadata": {},
   "outputs": [],
   "source": [
    "results = model(img)"
   ]
  },
  {
   "cell_type": "code",
   "execution_count": null,
   "id": "3e5b05e5-d1de-424d-95a9-eca74e76a5be",
   "metadata": {},
   "outputs": [],
   "source": [
    "results.print()"
   ]
  },
  {
   "cell_type": "code",
   "execution_count": null,
   "id": "ebb23d10-6d06-418a-9fc0-1b7369427ba6",
   "metadata": {},
   "outputs": [],
   "source": [
    "%matplotlib inline \n",
    "plt.imshow(np.squeeze(results.render()))\n",
    "plt.show()"
   ]
  },
  {
   "cell_type": "markdown",
   "id": "b12f4f63-d89a-4c2f-974b-405ba2e1370d",
   "metadata": {},
   "source": [
    "# A real time detection of Drowsy and Awake"
   ]
  },
  {
   "cell_type": "code",
   "execution_count": null,
   "id": "dcf9d7ed-6ee1-42d3-a09c-1dbe1d2fe200",
   "metadata": {},
   "outputs": [],
   "source": [
    "cap = cv2.VideoCapture(0)\n",
    "while cap.isOpened():\n",
    "    ret, frame = cap.read()\n",
    "    \n",
    "    # Make detections \n",
    "    results = model(frame)\n",
    "    \n",
    "    cv2.imshow('YOLO', np.squeeze(results.render()))\n",
    "    \n",
    "    if cv2.waitKey(10) & 0xFF == ord('q'):\n",
    "        break\n",
    "cap.release()\n",
    "cv2.destroyAllWindows()"
   ]
  }
 ],
 "metadata": {
  "kernelspec": {
   "display_name": "Python 3 (ipykernel)",
   "language": "python",
   "name": "python3"
  },
  "language_info": {
   "codemirror_mode": {
    "name": "ipython",
    "version": 3
   },
   "file_extension": ".py",
   "mimetype": "text/x-python",
   "name": "python",
   "nbconvert_exporter": "python",
   "pygments_lexer": "ipython3",
   "version": "3.12.3"
  }
 },
 "nbformat": 4,
 "nbformat_minor": 5
}
